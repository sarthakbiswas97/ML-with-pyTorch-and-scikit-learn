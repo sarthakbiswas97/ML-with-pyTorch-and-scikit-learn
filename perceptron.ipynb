{
  "nbformat": 4,
  "nbformat_minor": 0,
  "metadata": {
    "colab": {
      "provenance": [],
      "authorship_tag": "ABX9TyMYybXlARz4EMWJZrDtTUcs",
      "include_colab_link": true
    },
    "kernelspec": {
      "name": "python3",
      "display_name": "Python 3"
    },
    "language_info": {
      "name": "python"
    }
  },
  "cells": [
    {
      "cell_type": "markdown",
      "metadata": {
        "id": "view-in-github",
        "colab_type": "text"
      },
      "source": [
        "<a href=\"https://colab.research.google.com/github/sarthakbiswas97/ML-with-pyTorch-and-scikit-learn/blob/main/perceptron.ipynb\" target=\"_parent\"><img src=\"https://colab.research.google.com/assets/colab-badge.svg\" alt=\"Open In Colab\"/></a>"
      ]
    },
    {
      "cell_type": "code",
      "execution_count": null,
      "metadata": {
        "id": "C6GhZk5idRu2"
      },
      "outputs": [],
      "source": [
        "import numpy as np\n",
        "class Perceptron:\n",
        "  # eta: learning rate, n_iter: epochs, random_state: random weight\n",
        "  def __init__(self, eta=0.01, n_iter=50, random_state=1):\n",
        "    self.eta = eta\n",
        "    self.n_iter = n_iter\n",
        "    self.random_state = random_state\n",
        "\n",
        "  # X: feature input, y: class label\n",
        "  def fit(self, X, y):\n",
        "    rgen = np.random.RandomState(self.random_state)\n",
        "    self.w_ = rgen.normal(loc=0.0, scale=0.01, size=X.shape[1])\n",
        "    self.b_ = np.float64(0.)\n",
        "    self.errors_ = []\n",
        "\n",
        "    for _ in range(self.n_iter):\n",
        "      errors = 0\n",
        "      for xi, target in zip (X, y):\n",
        "        update = self.eta * (target - self.predict(xi))\n",
        "        self.w_ += update * xi\n",
        "        self.b_ += update\n",
        "        errors += int(update != 0.0)\n",
        "      self.errors_.append(errors)\n",
        "    return self\n",
        "\n",
        "  def net_input(self, X):\n",
        "    \"\"\"calculate net input\"\"\"\n",
        "    return np.dot(X, self.w_) + self.b_\n",
        "\n",
        "  def predict(self, X):\n",
        "    \"\"\"Return class lavel after unit step\"\"\"\n",
        "    return np.where(self.net_input(X) >= 0.0, 1, 0)"
      ]
    },
    {
      "cell_type": "markdown",
      "source": [
        "**Training a perceptron model on the Iris dataset**"
      ],
      "metadata": {
        "id": "VblqMj3StDk5"
      }
    },
    {
      "cell_type": "code",
      "source": [
        "import os\n",
        "import pandas as pd\n",
        "s = \"https://archive.ics.uci.edu/ml/machine-learning-databases/iris/iris.data\"\n",
        "\n",
        "print('From URL:', s)\n",
        "\n",
        "df = pd.read_csv(s, header=None, encoding='utf-8')\n",
        "df.tail()"
      ],
      "metadata": {
        "id": "ORL9ZzoZtJZs"
      },
      "execution_count": null,
      "outputs": []
    },
    {
      "cell_type": "code",
      "source": [
        "import matplotlib.pyplot as plt\n",
        "import numpy as np\n",
        "\n",
        "# select setosa and versicolor\n",
        "y = df.iloc[0:100, 4].values\n",
        "y = np.where(y == 'Iris-setosa', 0, 1)\n",
        "\n",
        "# extract sepal length and petal length\n",
        "X = df.iloc[0:100, [0, 2]].values\n",
        "\n",
        "# plot data\n",
        "plt.scatter(X[:50, 0], X[:50, 1], color='red', marker='o', label='Setosa')\n",
        "plt.scatter(X[50:100, 0], X[50:100, 1],color='blue', marker='s', label='Versicolor')\n",
        "plt.xlabel('sepal length [cm]')\n",
        "plt.ylabel('petal length [cm]')\n",
        "plt.legend(loc='upper left')\n",
        "plt.show()"
      ],
      "metadata": {
        "id": "qwS4T8hSwkLO"
      },
      "execution_count": null,
      "outputs": []
    },
    {
      "cell_type": "code",
      "source": [
        "ppn = Perceptron(eta=0.1, n_iter=10)\n",
        "ppn.fit(X, y)\n",
        "plt.plot(range(1, len(ppn.errors_) + 1),ppn.errors_, marker='o')\n",
        "plt.xlabel('Epochs')\n",
        "plt.ylabel('Number of updates')\n",
        "plt.show()"
      ],
      "metadata": {
        "id": "CB57tLxIx97y"
      },
      "execution_count": null,
      "outputs": []
    },
    {
      "cell_type": "code",
      "source": [
        "from matplotlib.colors import ListedColormap\n",
        "def plot_decision_regions(X, y, classifier, resolution=0.02):\n",
        "    # setup marker generator and color map\n",
        "    markers = ('o', 's', '^', 'v', '<')\n",
        "    colors = ('red', 'blue', 'lightgreen', 'gray', 'cyan')\n",
        "    cmap = ListedColormap(colors[:len(np.unique(y))])\n",
        "\n",
        "    # plot the decision surface\n",
        "    x1_min, x1_max = X[:, 0].min() - 1, X[:, 0].max() + 1\n",
        "    x2_min, x2_max = X[:, 1].min() - 1, X[:, 1].max() + 1\n",
        "    xx1, xx2 = np.meshgrid(np.arange(x1_min, x1_max, resolution),\n",
        "                           np.arange(x2_min, x2_max, resolution))\n",
        "    lab = classifier.predict(np.array([xx1.ravel(), xx2.ravel()]).T)\n",
        "    lab = lab.reshape(xx1.shape)\n",
        "    plt.contourf(xx1, xx2, lab, alpha=0.3, cmap=cmap)\n",
        "    plt.xlim(xx1.min(), xx1.max())\n",
        "    plt.ylim(xx2.min(), xx2.max())\n",
        "\n",
        "    for idx, cl in enumerate(np.unique(y)):\n",
        "        plt.scatter(x=X[y == cl, 0],\n",
        "                    y=X[y == cl, 1],\n",
        "                    alpha=0.8,\n",
        "                    c=colors[idx],\n",
        "                    marker=markers[idx],\n",
        "                    label=f'Class {cl}',\n",
        "                    edgecolor='black')\n",
        "\n",
        "plot_decision_regions(X, y, classifier=ppn)\n",
        "plt.xlabel('Sepal length [cm]')\n",
        "plt.ylabel('Petal length [cm]')\n",
        "plt.legend(loc='upper left')\n",
        "plt.show()"
      ],
      "metadata": {
        "id": "gzf0ZzVxzqXI"
      },
      "execution_count": null,
      "outputs": []
    }
  ]
}